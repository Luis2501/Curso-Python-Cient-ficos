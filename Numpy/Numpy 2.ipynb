{
 "cells": [
  {
   "cell_type": "code",
   "execution_count": 1,
   "id": "0e1dbe2e",
   "metadata": {},
   "outputs": [],
   "source": [
    "import numpy as np "
   ]
  },
  {
   "cell_type": "code",
   "execution_count": 2,
   "id": "b0423151",
   "metadata": {},
   "outputs": [
    {
     "name": "stdout",
     "output_type": "stream",
     "text": [
      "[ 1  2  3  4  5  6  7  8  9 10]\n"
     ]
    }
   ],
   "source": [
    "x = np.arange(1,11)\n",
    "\n",
    "print(x)"
   ]
  },
  {
   "cell_type": "code",
   "execution_count": 3,
   "id": "3c3397d8",
   "metadata": {},
   "outputs": [
    {
     "name": "stdout",
     "output_type": "stream",
     "text": [
      "[11 12 13 14 15 16 17 18 19 20]\n"
     ]
    }
   ],
   "source": [
    "y = np.arange(11, 21)\n",
    "\n",
    "print(y)"
   ]
  },
  {
   "cell_type": "code",
   "execution_count": 4,
   "id": "04acd9cf",
   "metadata": {},
   "outputs": [
    {
     "data": {
      "text/plain": [
       "array([12, 14, 16, 18, 20, 22, 24, 26, 28, 30])"
      ]
     },
     "execution_count": 4,
     "metadata": {},
     "output_type": "execute_result"
    }
   ],
   "source": [
    "x+y"
   ]
  },
  {
   "cell_type": "code",
   "execution_count": 5,
   "id": "5e62f45e",
   "metadata": {},
   "outputs": [
    {
     "data": {
      "text/plain": [
       "array([ 3,  6,  9, 12, 15, 18, 21, 24, 27, 30])"
      ]
     },
     "execution_count": 5,
     "metadata": {},
     "output_type": "execute_result"
    }
   ],
   "source": [
    "3*x"
   ]
  },
  {
   "cell_type": "code",
   "execution_count": 6,
   "id": "94358877",
   "metadata": {},
   "outputs": [
    {
     "data": {
      "text/plain": [
       "array([11, 12, 13, 14, 15, 16, 17, 18, 19, 20])"
      ]
     },
     "execution_count": 6,
     "metadata": {},
     "output_type": "execute_result"
    }
   ],
   "source": [
    "x+10"
   ]
  },
  {
   "cell_type": "code",
   "execution_count": 7,
   "id": "94f8193c",
   "metadata": {},
   "outputs": [
    {
     "data": {
      "text/plain": [
       "array([  1,   4,   9,  16,  25,  36,  49,  64,  81, 100])"
      ]
     },
     "execution_count": 7,
     "metadata": {},
     "output_type": "execute_result"
    }
   ],
   "source": [
    "x**2"
   ]
  },
  {
   "cell_type": "code",
   "execution_count": 10,
   "id": "0559c156",
   "metadata": {},
   "outputs": [
    {
     "data": {
      "text/plain": [
       "0.0"
      ]
     },
     "execution_count": 10,
     "metadata": {},
     "output_type": "execute_result"
    }
   ],
   "source": [
    "import math as ma\n",
    "\n",
    "# sin cos\n",
    "\n",
    "round(ma.sin(ma.pi), 2)"
   ]
  },
  {
   "cell_type": "markdown",
   "id": "8cd9cebd",
   "metadata": {},
   "source": [
    "$$x = (1,2,3)$$\n",
    "\n",
    "$$sin(x) = (sin(1), sin(2), sin(3))$$\n",
    "\n",
    "$$exp(x) = (e^1 , e^2, e^3)$$"
   ]
  },
  {
   "cell_type": "code",
   "execution_count": 11,
   "id": "16e51f51",
   "metadata": {},
   "outputs": [
    {
     "name": "stdout",
     "output_type": "stream",
     "text": [
      "[-6.28318531 -3.14159265  0.          3.14159265  6.28318531]\n"
     ]
    }
   ],
   "source": [
    "X = np.arange(-2*np.pi, 2*np.pi + np.pi, np.pi )\n",
    "\n",
    "print(X)"
   ]
  },
  {
   "cell_type": "code",
   "execution_count": 12,
   "id": "ce74c3d3",
   "metadata": {},
   "outputs": [
    {
     "data": {
      "text/plain": [
       "array([ 2.4492936e-16, -1.2246468e-16,  0.0000000e+00,  1.2246468e-16,\n",
       "       -2.4492936e-16])"
      ]
     },
     "execution_count": 12,
     "metadata": {},
     "output_type": "execute_result"
    }
   ],
   "source": [
    "np.sin(X)"
   ]
  },
  {
   "cell_type": "code",
   "execution_count": 13,
   "id": "66e981f4",
   "metadata": {
    "scrolled": true
   },
   "outputs": [
    {
     "data": {
      "text/plain": [
       "array([ 1., -1.,  1., -1.,  1.])"
      ]
     },
     "execution_count": 13,
     "metadata": {},
     "output_type": "execute_result"
    }
   ],
   "source": [
    "np.cos(X)"
   ]
  },
  {
   "cell_type": "code",
   "execution_count": 16,
   "id": "9e7f45b8",
   "metadata": {},
   "outputs": [
    {
     "name": "stdout",
     "output_type": "stream",
     "text": [
      "1\n",
      "10\n",
      "(10,)\n"
     ]
    }
   ],
   "source": [
    "print(x.ndim) #Dimensión del arreglo\n",
    "print(x.size) #Tamaño del arreglo\n",
    "print(x.shape) #(M, N) "
   ]
  },
  {
   "cell_type": "markdown",
   "id": "b57efc6e",
   "metadata": {},
   "source": [
    "# Álgebra lineal\n",
    "\n",
    "$$\\vec{x} = (1,2)$$\n",
    "\n",
    "$$\\vec{y} = (3,4)$$\n",
    "\n",
    "## Producto interno\n",
    "\n",
    "\n",
    "$$\\vec{x} \\cdot \\vec{y} = 1 \\cdot 3 + 2 \\cdot 4$$"
   ]
  },
  {
   "cell_type": "code",
   "execution_count": 17,
   "id": "b74d230a",
   "metadata": {},
   "outputs": [
    {
     "data": {
      "text/plain": [
       "11"
      ]
     },
     "execution_count": 17,
     "metadata": {},
     "output_type": "execute_result"
    }
   ],
   "source": [
    "x = np.array([1,2])\n",
    "y = np.array([3,4])\n",
    "\n",
    "x.dot(y)   # x * y  -> y x"
   ]
  },
  {
   "cell_type": "code",
   "execution_count": 20,
   "id": "62d8351b",
   "metadata": {},
   "outputs": [
    {
     "name": "stdout",
     "output_type": "stream",
     "text": [
      "[-3  6 -3]\n"
     ]
    }
   ],
   "source": [
    "w = np.array([1,2,3])\n",
    "z = np.array([4,5,6])\n",
    "\n",
    "print(np.cross(w, z))"
   ]
  },
  {
   "cell_type": "markdown",
   "id": "15d05832",
   "metadata": {},
   "source": [
    "\n",
    "$$x + 2y = 5$$\n",
    "$$3x + 4y = 6$$\n"
   ]
  },
  {
   "cell_type": "code",
   "execution_count": 21,
   "id": "998b50ed",
   "metadata": {},
   "outputs": [
    {
     "name": "stdout",
     "output_type": "stream",
     "text": [
      "[-4.   4.5]\n"
     ]
    }
   ],
   "source": [
    "A = np.array([[1, 2], [3, 4]])\n",
    "b = np.array([5, 6])\n",
    "\n",
    "print(np.linalg.solve(A, b))"
   ]
  },
  {
   "cell_type": "markdown",
   "id": "983626ea",
   "metadata": {},
   "source": [
    "# Estadística"
   ]
  },
  {
   "cell_type": "code",
   "execution_count": 22,
   "id": "a3b2255f",
   "metadata": {},
   "outputs": [
    {
     "name": "stdout",
     "output_type": "stream",
     "text": [
      "2.0\n"
     ]
    }
   ],
   "source": [
    "x = np.array([1,2,3])\n",
    "\n",
    "print(np.mean(x))"
   ]
  }
 ],
 "metadata": {
  "kernelspec": {
   "display_name": "Python 3",
   "language": "python",
   "name": "python3"
  },
  "language_info": {
   "codemirror_mode": {
    "name": "ipython",
    "version": 3
   },
   "file_extension": ".py",
   "mimetype": "text/x-python",
   "name": "python",
   "nbconvert_exporter": "python",
   "pygments_lexer": "ipython3",
   "version": "3.8.8"
  }
 },
 "nbformat": 4,
 "nbformat_minor": 5
}
