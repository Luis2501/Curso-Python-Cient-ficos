{
 "cells": [
  {
   "cell_type": "code",
   "execution_count": 1,
   "id": "e9c2e319",
   "metadata": {},
   "outputs": [],
   "source": [
    "import sympy as sy"
   ]
  },
  {
   "cell_type": "markdown",
   "id": "42d60fc4",
   "metadata": {},
   "source": [
    "$$\\sqrt{8} = 2 \\sqrt{2}$$"
   ]
  },
  {
   "cell_type": "code",
   "execution_count": 3,
   "id": "b44955f6",
   "metadata": {},
   "outputs": [
    {
     "name": "stdout",
     "output_type": "stream",
     "text": [
      "2.8284271247461903\n"
     ]
    },
    {
     "data": {
      "text/latex": [
       "$\\displaystyle 2 \\sqrt{2}$"
      ],
      "text/plain": [
       "2*sqrt(2)"
      ]
     },
     "execution_count": 3,
     "metadata": {},
     "output_type": "execute_result"
    }
   ],
   "source": [
    "print((8)**(1/2))\n",
    "\n",
    "sy.sqrt(8)"
   ]
  },
  {
   "cell_type": "code",
   "execution_count": 13,
   "id": "488fc367",
   "metadata": {},
   "outputs": [
    {
     "name": "stdout",
     "output_type": "stream",
     "text": [
      "x + 3*y\n"
     ]
    }
   ],
   "source": [
    "#Declarar los símbolos\n",
    "\n",
    "x, y  = sy.symbols(\"x y\")\n",
    "\n",
    "print(x + 3*y)"
   ]
  },
  {
   "cell_type": "code",
   "execution_count": 5,
   "id": "5e2152e1",
   "metadata": {},
   "outputs": [
    {
     "data": {
      "text/plain": [
       "sympy.core.symbol.Symbol"
      ]
     },
     "execution_count": 5,
     "metadata": {},
     "output_type": "execute_result"
    }
   ],
   "source": [
    "type(x)"
   ]
  },
  {
   "cell_type": "code",
   "execution_count": 7,
   "id": "dc3f9167",
   "metadata": {},
   "outputs": [
    {
     "name": "stdout",
     "output_type": "stream",
     "text": [
      "y\n"
     ]
    }
   ],
   "source": [
    "Exp = x**2 + y\n",
    "\n",
    "print(Exp - x**2)"
   ]
  },
  {
   "cell_type": "code",
   "execution_count": 14,
   "id": "e375df34",
   "metadata": {},
   "outputs": [
    {
     "data": {
      "text/latex": [
       "$\\displaystyle \\left(x + y\\right)^{2}$"
      ],
      "text/plain": [
       "(x + y)**2"
      ]
     },
     "execution_count": 14,
     "metadata": {},
     "output_type": "execute_result"
    }
   ],
   "source": [
    "# Factor()\n",
    "\n",
    "sy.factor(x**2 + 2*x*y + y**2)"
   ]
  },
  {
   "cell_type": "code",
   "execution_count": 15,
   "id": "792e0e3a",
   "metadata": {},
   "outputs": [
    {
     "name": "stdout",
     "output_type": "stream",
     "text": [
      "x**2 + 2*x\n"
     ]
    },
    {
     "data": {
      "text/latex": [
       "$\\displaystyle 3$"
      ],
      "text/plain": [
       "3"
      ]
     },
     "execution_count": 15,
     "metadata": {},
     "output_type": "execute_result"
    }
   ],
   "source": [
    "Exp2 = x**2 + 2*x\n",
    "\n",
    "print(Exp2)\n",
    "\n",
    "Exp2.subs(x, 1)"
   ]
  },
  {
   "cell_type": "code",
   "execution_count": 16,
   "id": "b01393a0",
   "metadata": {},
   "outputs": [
    {
     "data": {
      "text/latex": [
       "$\\displaystyle b \\left(a^{2} + 1\\right)$"
      ],
      "text/plain": [
       "b*(a**2 + 1)"
      ]
     },
     "execution_count": 16,
     "metadata": {},
     "output_type": "execute_result"
    }
   ],
   "source": [
    "a, b = sy.symbols(\"a b\")\n",
    "\n",
    "Exp3 = (a**2)*b +2*b - b # b(a**2+1)\n",
    "\n",
    "sy.simplify(Exp3)"
   ]
  },
  {
   "cell_type": "markdown",
   "id": "b5a4f278",
   "metadata": {},
   "source": [
    "$$\\cos^2 (x) + \\sin^2 (x) = 1$$"
   ]
  },
  {
   "cell_type": "code",
   "execution_count": 17,
   "id": "5916e663",
   "metadata": {},
   "outputs": [
    {
     "data": {
      "text/plain": [
       "True"
      ]
     },
     "execution_count": 17,
     "metadata": {},
     "output_type": "execute_result"
    }
   ],
   "source": [
    "h = sy.cos(x)**2 + sy.sin(x)**2\n",
    "g = 1\n",
    "\n",
    "h.equals(g)"
   ]
  },
  {
   "cell_type": "code",
   "execution_count": 18,
   "id": "9faf14bd",
   "metadata": {},
   "outputs": [
    {
     "data": {
      "text/plain": [
       "False"
      ]
     },
     "execution_count": 18,
     "metadata": {},
     "output_type": "execute_result"
    }
   ],
   "source": [
    "h == g"
   ]
  },
  {
   "cell_type": "code",
   "execution_count": 20,
   "id": "a2c03c5c",
   "metadata": {},
   "outputs": [
    {
     "data": {
      "text/latex": [
       "$\\displaystyle y + 5$"
      ],
      "text/plain": [
       "y + 5"
      ]
     },
     "execution_count": 20,
     "metadata": {},
     "output_type": "execute_result"
    }
   ],
   "source": [
    "Number = sy.Integer(1)\n",
    "\n",
    "Number + Exp"
   ]
  },
  {
   "cell_type": "code",
   "execution_count": 21,
   "id": "ecb75694",
   "metadata": {},
   "outputs": [
    {
     "data": {
      "text/latex": [
       "$\\displaystyle 5$"
      ],
      "text/plain": [
       "5"
      ]
     },
     "execution_count": 21,
     "metadata": {},
     "output_type": "execute_result"
    }
   ],
   "source": [
    "z = sy.symbols(\"z\")\n",
    "\n",
    "Ec = x**2 + 2*x*y + z\n",
    "\n",
    "# x=2, y=0, z=1,  Ec=5\n",
    "\n",
    "Ec.subs([(x, 2), (y, 0), (z, 1)])"
   ]
  },
  {
   "cell_type": "markdown",
   "id": "140f8ca4",
   "metadata": {},
   "source": [
    "# Impresión en pantalla\n",
    "\n",
    "- str\n",
    "- ASCII\n",
    "- Unicode\n",
    "- Latex\n",
    "- MathML"
   ]
  },
  {
   "cell_type": "code",
   "execution_count": 22,
   "id": "90ee6efa",
   "metadata": {},
   "outputs": [],
   "source": [
    "sy.init_printing()"
   ]
  },
  {
   "cell_type": "code",
   "execution_count": 23,
   "id": "664962d4",
   "metadata": {},
   "outputs": [
    {
     "data": {
      "image/png": "[encoded data removed]",
      "text/latex": [
       "$\\displaystyle x^{2} + y^{2} + 2$"
      ],
      "text/plain": [
       " 2    2    \n",
       "x  + y  + 2"
      ]
     },
     "execution_count": 23,
     "metadata": {},
     "output_type": "execute_result"
    }
   ],
   "source": [
    "x**2 + 2 + y**2"
   ]
  },
  {
   "cell_type": "code",
   "execution_count": 24,
   "id": "630add4c",
   "metadata": {
    "scrolled": true
   },
   "outputs": [
    {
     "data": {
      "text/plain": [
       "'x**2 + y**2 + 2'"
      ]
     },
     "execution_count": 24,
     "metadata": {},
     "output_type": "execute_result"
    }
   ],
   "source": [
    "str(x**2 + 2 + y**2)"
   ]
  },
  {
   "cell_type": "code",
   "execution_count": 25,
   "id": "7d42c7aa",
   "metadata": {},
   "outputs": [
    {
     "name": "stdout",
     "output_type": "stream",
     "text": [
      " 2    2    \n",
      "x  + y  + 2\n"
     ]
    }
   ],
   "source": [
    "sy.pprint(x**2 + y**2 + 2, use_unicode=True)"
   ]
  },
  {
   "cell_type": "code",
   "execution_count": 26,
   "id": "70f58264",
   "metadata": {
    "scrolled": true
   },
   "outputs": [
    {
     "name": "stdout",
     "output_type": "stream",
     "text": [
      " 2    2    \n",
      "x  + y  + 2\n"
     ]
    }
   ],
   "source": [
    "sy.pprint(x**2 + y**2 + 2, use_unicode=False)"
   ]
  },
  {
   "cell_type": "code",
   "execution_count": 28,
   "id": "6b706946",
   "metadata": {},
   "outputs": [
    {
     "data": {
      "image/png": "[encoded data removed]",
      "text/latex": [
       "$\\displaystyle \\int e^{- x^{2}}\\, dx$"
      ],
      "text/plain": [
       "⌠        \n",
       "⎮    2   \n",
       "⎮  -x    \n",
       "⎮ ℯ    dx\n",
       "⌡        "
      ]
     },
     "execution_count": 28,
     "metadata": {},
     "output_type": "execute_result"
    }
   ],
   "source": [
    "Sum = sy.Integral(sy.exp(-x**2), x)\n",
    "\n",
    "Sum"
   ]
  },
  {
   "cell_type": "code",
   "execution_count": 30,
   "id": "ce8d2363",
   "metadata": {},
   "outputs": [
    {
     "name": "stdout",
     "output_type": "stream",
     "text": [
      "⌠        \n",
      "⎮    2   \n",
      "⎮  -x    \n",
      "⎮ ℯ    dx\n",
      "⌡        \n",
      "  /       \n",
      " |        \n",
      " |    2   \n",
      " |  -x    \n",
      " | e    dx\n",
      " |        \n",
      "/         \n"
     ]
    }
   ],
   "source": [
    "str(Sum)\n",
    "\n",
    "sy.pprint(Sum, use_unicode=True) #Unicode\n",
    "\n",
    "sy.pprint(Sum, use_unicode=False) #ASCII"
   ]
  },
  {
   "cell_type": "markdown",
   "id": "3af78da2",
   "metadata": {},
   "source": [
    "$$\\int e^{-x^2} \\;dx$$"
   ]
  },
  {
   "cell_type": "code",
   "execution_count": 31,
   "id": "c6a14799",
   "metadata": {},
   "outputs": [
    {
     "data": {
      "text/plain": [
       "'\\\\int e^{- x^{2}}\\\\, dx'"
      ]
     },
     "execution_count": 31,
     "metadata": {},
     "output_type": "execute_result"
    }
   ],
   "source": [
    "sy.latex(Sum)"
   ]
  },
  {
   "cell_type": "markdown",
   "id": "39934645",
   "metadata": {},
   "source": [
    "$$\\int e^{- x^{2}} dx$$"
   ]
  }
 ],
 "metadata": {
  "kernelspec": {
   "display_name": "Python 3",
   "language": "python",
   "name": "python3"
  },
  "language_info": {
   "codemirror_mode": {
    "name": "ipython",
    "version": 3
   },
   "file_extension": ".py",
   "mimetype": "text/x-python",
   "name": "python",
   "nbconvert_exporter": "python",
   "pygments_lexer": "ipython3",
   "version": "3.8.8"
  }
 },
 "nbformat": 4,
 "nbformat_minor": 5
}
