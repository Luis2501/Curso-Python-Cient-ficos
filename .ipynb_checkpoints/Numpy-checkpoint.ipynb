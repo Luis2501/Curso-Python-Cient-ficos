{
 "cells": [
  {
   "cell_type": "markdown",
   "id": "0a4de81f",
   "metadata": {},
   "source": [
    "# Numpy \n",
    "\n",
    "\n",
    "Numpy es una libreria científica de Python, que sirve para manipular vectores y matrices "
   ]
  },
  {
   "cell_type": "code",
   "execution_count": 1,
   "id": "60038740",
   "metadata": {},
   "outputs": [],
   "source": [
    "import numpy as np "
   ]
  },
  {
   "cell_type": "code",
   "execution_count": 2,
   "id": "3122e89c",
   "metadata": {},
   "outputs": [
    {
     "name": "stdout",
     "output_type": "stream",
     "text": [
      "[1, 2, 3, 4, 5, 6]\n"
     ]
    }
   ],
   "source": [
    "x = [1,2,3]\n",
    "y = [4,5,6]\n",
    "\n",
    "print(x+y) "
   ]
  },
  {
   "cell_type": "markdown",
   "id": "ba99df65",
   "metadata": {},
   "source": [
    "\n",
    "$$x = (1,2,3)$$\n",
    "\n",
    "$$y = (4,5,6)$$\n",
    "\n",
    "$$x + y = (1+4, 2+5, 3+6) = (5, 7, 9)$$\n"
   ]
  },
  {
   "cell_type": "code",
   "execution_count": 4,
   "id": "a0b444de",
   "metadata": {},
   "outputs": [
    {
     "name": "stdout",
     "output_type": "stream",
     "text": [
      "[5 7 9]\n",
      "<class 'numpy.ndarray'>\n"
     ]
    }
   ],
   "source": [
    "x = np.array(x)\n",
    "y = np.array(y)\n",
    "\n",
    "print(x+y)\n",
    "\n",
    "print(type(x))"
   ]
  },
  {
   "cell_type": "markdown",
   "id": "b5d4f2b5",
   "metadata": {},
   "source": [
    "$$A = \\begin{pmatrix}\n",
    "1 & 2 \\\\\n",
    "3 & 4 \n",
    "\\end{pmatrix}$$\n",
    "\n",
    "$$B = \\begin{pmatrix}\n",
    "5 & 6 \\\\\n",
    "7 & 8 \n",
    "\\end{pmatrix}$$"
   ]
  },
  {
   "cell_type": "code",
   "execution_count": 5,
   "id": "95d34e0c",
   "metadata": {},
   "outputs": [
    {
     "name": "stdout",
     "output_type": "stream",
     "text": [
      "[[1, 2], [3, 4], [5, 6], [7, 8]]\n"
     ]
    }
   ],
   "source": [
    "A = [[1,2],\n",
    "     [3,4]]\n",
    "\n",
    "B = [[5,6],\n",
    "     [7,8]]\n",
    "\n",
    "print(A+B)"
   ]
  },
  {
   "cell_type": "code",
   "execution_count": 6,
   "id": "6f4b29cd",
   "metadata": {},
   "outputs": [
    {
     "name": "stdout",
     "output_type": "stream",
     "text": [
      "[[ 6  8]\n",
      " [10 12]]\n"
     ]
    }
   ],
   "source": [
    "A = np.array(A)\n",
    "B = np.array(B)\n",
    "\n",
    "print(A+B)"
   ]
  },
  {
   "cell_type": "code",
   "execution_count": 14,
   "id": "516eb745",
   "metadata": {},
   "outputs": [
    {
     "name": "stdout",
     "output_type": "stream",
     "text": [
      "CPU times: user 3 µs, sys: 0 ns, total: 3 µs\n",
      "Wall time: 7.87 µs\n",
      "[1, 2, 3, 4, 5, 6, 7, 8, 9, 10, 11, 12, 13, 14, 15, 16, 17, 18, 19, 20, 21, 22, 23, 24, 25, 26, 27, 28, 29, 30, 31, 32, 33, 34, 35, 36, 37, 38, 39, 40, 41, 42, 43, 44, 45, 46, 47, 48, 49, 50, 51, 52, 53, 54, 55, 56, 57, 58, 59, 60, 61, 62, 63, 64, 65, 66, 67, 68, 69, 70, 71, 72, 73, 74, 75, 76, 77, 78, 79, 80, 81, 82, 83, 84, 85, 86, 87, 88, 89, 90, 91, 92, 93, 94, 95, 96, 97, 98, 99, 100]\n"
     ]
    }
   ],
   "source": [
    "%time\n",
    "\n",
    "X = list(range(1,101))\n",
    "\n",
    "print(X)"
   ]
  },
  {
   "cell_type": "code",
   "execution_count": 17,
   "id": "6a713918",
   "metadata": {},
   "outputs": [
    {
     "name": "stdout",
     "output_type": "stream",
     "text": [
      "CPU times: user 3 µs, sys: 0 ns, total: 3 µs\n",
      "Wall time: 6.91 µs\n",
      "[ 1.   1.2  1.4  1.6  1.8  2.   2.2  2.4  2.6  2.8  3.   3.2  3.4  3.6\n",
      "  3.8  4.   4.2  4.4  4.6  4.8  5.   5.2  5.4  5.6  5.8  6.   6.2  6.4\n",
      "  6.6  6.8  7.   7.2  7.4  7.6  7.8  8.   8.2  8.4  8.6  8.8  9.   9.2\n",
      "  9.4  9.6  9.8 10.  10.2 10.4 10.6 10.8 11. ]\n"
     ]
    }
   ],
   "source": [
    "%time\n",
    "\n",
    "dt = 0.2\n",
    "\n",
    "Y = np.arange(1, 11 + dt, dt)\n",
    "\n",
    "print(Y)"
   ]
  },
  {
   "cell_type": "code",
   "execution_count": 18,
   "id": "36a17643",
   "metadata": {},
   "outputs": [
    {
     "name": "stdout",
     "output_type": "stream",
     "text": [
      "[]\n",
      "[2.]\n"
     ]
    }
   ],
   "source": [
    "x = np.array([])\n",
    "\n",
    "print(x)\n",
    "\n",
    "x = np.append(x, 2)\n",
    "\n",
    "print(x)"
   ]
  },
  {
   "cell_type": "code",
   "execution_count": 19,
   "id": "3efd482d",
   "metadata": {},
   "outputs": [
    {
     "name": "stdout",
     "output_type": "stream",
     "text": [
      "[0. 0. 0. 0. 0. 0. 0. 0. 0. 0.]\n"
     ]
    }
   ],
   "source": [
    "z = np.zeros(10)\n",
    "\n",
    "print(z)"
   ]
  },
  {
   "cell_type": "markdown",
   "id": "970c15cb",
   "metadata": {},
   "source": [
    "```python \n",
    "\n",
    "np.zeros((M,N))\n",
    "\n",
    "```\n",
    "\n",
    "Genera una matriz de M filas y N columnas"
   ]
  },
  {
   "cell_type": "code",
   "execution_count": 21,
   "id": "7d4b1ac5",
   "metadata": {
    "scrolled": true
   },
   "outputs": [
    {
     "name": "stdout",
     "output_type": "stream",
     "text": [
      "[[0. 0. 0. ... 0. 0. 0.]\n",
      " [0. 0. 0. ... 0. 0. 0.]\n",
      " [0. 0. 0. ... 0. 0. 0.]\n",
      " ...\n",
      " [0. 0. 0. ... 0. 0. 0.]\n",
      " [0. 0. 0. ... 0. 0. 0.]\n",
      " [0. 0. 0. ... 0. 0. 0.]]\n"
     ]
    }
   ],
   "source": [
    "Z = np.zeros((100,100))\n",
    "\n",
    "print(Z)"
   ]
  },
  {
   "cell_type": "code",
   "execution_count": 24,
   "id": "a5286694",
   "metadata": {},
   "outputs": [
    {
     "name": "stdout",
     "output_type": "stream",
     "text": [
      "[1. 1. 1. 1. 1. 1. 1. 1. 1. 1. 1. 1. 1. 1. 1. 1. 1. 1. 1. 1.]\n",
      "[[1. 1.]\n",
      " [1. 1.]]\n"
     ]
    }
   ],
   "source": [
    "a = np.ones(20)\n",
    "\n",
    "print(a)\n",
    "\n",
    "A = np.ones((2,2))\n",
    "\n",
    "print(A)"
   ]
  },
  {
   "cell_type": "code",
   "execution_count": 25,
   "id": "aed1465a",
   "metadata": {},
   "outputs": [
    {
     "name": "stdout",
     "output_type": "stream",
     "text": [
      "[0.19183309 0.77417763 0.23093248 0.14877156 0.03176764 0.18051593\n",
      " 0.74366884 0.05848121 0.64771867 0.72818594]\n"
     ]
    }
   ],
   "source": [
    "import random as ra\n",
    "\n",
    "for i in range(len(z)):\n",
    "    \n",
    "    z[i] = ra.random()\n",
    "    \n",
    "print(z)"
   ]
  },
  {
   "cell_type": "markdown",
   "id": "9f00aec4",
   "metadata": {},
   "source": [
    "``` python \n",
    "\n",
    "np.linspace(i, f, N)\n",
    "\n",
    "```\n",
    "\n",
    "Esto nos crea un vector que va de $i$ hasta $f$ tal que $N$ es la cantidad de números en ese arreglo"
   ]
  },
  {
   "cell_type": "code",
   "execution_count": 28,
   "id": "8f307f39",
   "metadata": {},
   "outputs": [
    {
     "name": "stdout",
     "output_type": "stream",
     "text": [
      "[ 1.    1.09  1.18  1.27  1.36  1.45  1.54  1.63  1.72  1.81  1.9   1.99\n",
      "  2.08  2.17  2.26  2.35  2.44  2.53  2.62  2.71  2.8   2.89  2.98  3.07\n",
      "  3.16  3.25  3.34  3.43  3.52  3.61  3.7   3.79  3.88  3.97  4.06  4.15\n",
      "  4.24  4.33  4.42  4.51  4.6   4.69  4.78  4.87  4.96  5.05  5.14  5.23\n",
      "  5.32  5.41  5.5   5.59  5.68  5.77  5.86  5.95  6.04  6.13  6.22  6.31\n",
      "  6.4   6.49  6.58  6.67  6.76  6.85  6.94  7.03  7.12  7.21  7.3   7.39\n",
      "  7.48  7.57  7.66  7.75  7.84  7.93  8.02  8.11  8.2   8.29  8.38  8.47\n",
      "  8.56  8.65  8.74  8.83  8.92  9.01  9.1   9.19  9.28  9.37  9.46  9.55\n",
      "  9.64  9.73  9.82  9.91 10.  ]\n"
     ]
    }
   ],
   "source": [
    "w = np.linspace(1, 10, 101)\n",
    "\n",
    "print(w)"
   ]
  },
  {
   "cell_type": "markdown",
   "id": "14cc88ee",
   "metadata": {},
   "source": [
    "$$salto = \\frac{n_f - n_i}{N}$$"
   ]
  },
  {
   "cell_type": "code",
   "execution_count": 29,
   "id": "38f7a4c2",
   "metadata": {},
   "outputs": [
    {
     "data": {
      "text/plain": [
       "2.718281828459045"
      ]
     },
     "execution_count": 29,
     "metadata": {},
     "output_type": "execute_result"
    }
   ],
   "source": [
    "np.e"
   ]
  }
 ],
 "metadata": {
  "kernelspec": {
   "display_name": "Python 3",
   "language": "python",
   "name": "python3"
  },
  "language_info": {
   "codemirror_mode": {
    "name": "ipython",
    "version": 3
   },
   "file_extension": ".py",
   "mimetype": "text/x-python",
   "name": "python",
   "nbconvert_exporter": "python",
   "pygments_lexer": "ipython3",
   "version": "3.8.8"
  }
 },
 "nbformat": 4,
 "nbformat_minor": 5
}
